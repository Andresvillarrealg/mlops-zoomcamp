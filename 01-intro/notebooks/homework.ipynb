{
 "cells": [
  {
   "cell_type": "code",
   "execution_count": 1,
   "id": "df4d85a1",
   "metadata": {},
   "outputs": [],
   "source": [
    "import pandas as pd\n",
    "import seaborn as sns\n",
    "import matplotlib.pyplot as plt\n",
    "from sklearn.feature_extraction import DictVectorizer\n",
    "from sklearn.linear_model import LinearRegression\n",
    "from sklearn.linear_model import Lasso\n",
    "from sklearn.linear_model import Ridge\n",
    "from sklearn.metrics import mean_squared_error"
   ]
  },
  {
   "cell_type": "code",
   "execution_count": 2,
   "id": "23aa046e",
   "metadata": {},
   "outputs": [
    {
     "name": "stdout",
     "output_type": "stream",
     "text": [
      "Número de columnas: 19\n"
     ]
    }
   ],
   "source": [
    "df_jan = pd.read_parquet(\"./data/yellow_tripdata_2023-01.parquet\") \n",
    "print(\"Número de columnas:\", df_jan.shape[1])"
   ]
  },
  {
   "cell_type": "code",
   "execution_count": 3,
   "id": "ed98bef4",
   "metadata": {},
   "outputs": [],
   "source": [
    "df_jan[\"tpep_pickup_datetime\"] = pd.to_datetime(df_jan[\"tpep_pickup_datetime\"])\n",
    "df_jan[\"tpep_dropoff_datetime\"] = pd.to_datetime(df_jan[\"tpep_dropoff_datetime\"])\n",
    "\n",
    "df_jan[\"duration\"] = (df_jan[\"tpep_dropoff_datetime\"] - df_jan[\"tpep_pickup_datetime\"]).dt.total_seconds() / 60\n"
   ]
  },
  {
   "cell_type": "code",
   "execution_count": 4,
   "id": "bde1114d",
   "metadata": {},
   "outputs": [
    {
     "name": "stdout",
     "output_type": "stream",
     "text": [
      "42.594351241920904\n"
     ]
    }
   ],
   "source": [
    "std_duration = df_jan[\"duration\"].std()\n",
    "print(std_duration)\n"
   ]
  },
  {
   "cell_type": "code",
   "execution_count": 5,
   "id": "527cb865",
   "metadata": {},
   "outputs": [],
   "source": [
    "len_before = len(df_jan)\n",
    "\n",
    "df_filtered = df_jan[(df_jan[\"duration\"] >= 1) & (df_jan[\"duration\"] <= 60)]\n",
    "\n",
    "len_after = len(df_filtered)\n"
   ]
  },
  {
   "cell_type": "code",
   "execution_count": 6,
   "id": "5d97b104",
   "metadata": {},
   "outputs": [
    {
     "name": "stdout",
     "output_type": "stream",
     "text": [
      "Fraction left: 98.12%\n"
     ]
    }
   ],
   "source": [
    "fraction = len_after / len_before\n",
    "print(f\"Fraction left: {fraction:.2%}\") "
   ]
  },
  {
   "cell_type": "code",
   "execution_count": 7,
   "id": "44b01678",
   "metadata": {},
   "outputs": [
    {
     "data": {
      "text/plain": [
       "(3009173, 515)"
      ]
     },
     "execution_count": 7,
     "metadata": {},
     "output_type": "execute_result"
    }
   ],
   "source": [
    "df_small = df_filtered[[\"PULocationID\", \"DOLocationID\"]].copy()\n",
    "\n",
    "df_small[\"PULocationID\"] = df_small[\"PULocationID\"].astype(str)\n",
    "df_small[\"DOLocationID\"] = df_small[\"DOLocationID\"].astype(str)\n",
    "\n",
    "dicts = df_small.to_dict(orient=\"records\")\n",
    "\n",
    "\n",
    "dv = DictVectorizer()\n",
    "\n",
    "X = dv.fit_transform(dicts)\n",
    "\n",
    "X.shape"
   ]
  },
  {
   "cell_type": "code",
   "execution_count": 8,
   "id": "aafc3c33",
   "metadata": {},
   "outputs": [],
   "source": [
    "y = df_filtered[\"duration\"].values"
   ]
  },
  {
   "cell_type": "code",
   "execution_count": 9,
   "id": "b55d3aef",
   "metadata": {},
   "outputs": [
    {
     "data": {
      "text/plain": [
       "LinearRegression()"
      ]
     },
     "execution_count": 9,
     "metadata": {},
     "output_type": "execute_result"
    }
   ],
   "source": [
    "model = LinearRegression()\n",
    "model.fit(X, y)"
   ]
  },
  {
   "cell_type": "code",
   "execution_count": 10,
   "id": "dcc7dfad",
   "metadata": {},
   "outputs": [],
   "source": [
    "import numpy as np"
   ]
  },
  {
   "cell_type": "code",
   "execution_count": 11,
   "id": "f20de443",
   "metadata": {},
   "outputs": [
    {
     "name": "stdout",
     "output_type": "stream",
     "text": [
      "7.649261027919939\n"
     ]
    }
   ],
   "source": [
    "y_pred = model.predict(X)\n",
    "rmse = np.sqrt(mean_squared_error(y, y_pred))\n",
    "print(rmse)"
   ]
  },
  {
   "cell_type": "code",
   "execution_count": 13,
   "id": "4c001a26",
   "metadata": {},
   "outputs": [],
   "source": [
    "df_feb = pd.read_parquet(\"./data/yellow_tripdata_2023-02.parquet\")\n",
    "\n",
    "df_feb[\"tpep_pickup_datetime\"] = pd.to_datetime(df_feb[\"tpep_pickup_datetime\"])\n",
    "df_feb[\"tpep_dropoff_datetime\"] = pd.to_datetime(df_feb[\"tpep_dropoff_datetime\"])\n",
    "\n",
    "df_feb[\"duration\"] = (df_feb[\"tpep_dropoff_datetime\"] - df_feb[\"tpep_pickup_datetime\"]).dt.total_seconds() / 60\n",
    "\n",
    "df_feb = df_feb[(df_feb[\"duration\"] >= 1) & (df_feb[\"duration\"] <= 60)]\n",
    "\n",
    "df_feb_small = df_feb[[\"PULocationID\", \"DOLocationID\"]].copy()\n",
    "df_feb_small[\"PULocationID\"] = df_feb_small[\"PULocationID\"].astype(str)\n",
    "df_feb_small[\"DOLocationID\"] = df_feb_small[\"DOLocationID\"].astype(str)\n",
    "\n",
    "dicts_val = df_feb_small.to_dict(orient=\"records\")\n",
    "X_val = dv.transform(dicts_val)  \n",
    "y_val = df_feb[\"duration\"].values\n"
   ]
  },
  {
   "cell_type": "code",
   "execution_count": 14,
   "id": "e29bf424",
   "metadata": {},
   "outputs": [
    {
     "name": "stdout",
     "output_type": "stream",
     "text": [
      "7.811832638273232\n"
     ]
    }
   ],
   "source": [
    "y_pred_val = model.predict(X_val)\n",
    "\n",
    "rmse_val = np.sqrt(mean_squared_error(y_val, y_pred_val))\n",
    "print(rmse_val)"
   ]
  },
  {
   "cell_type": "code",
   "execution_count": null,
   "id": "cd752328",
   "metadata": {},
   "outputs": [],
   "source": []
  }
 ],
 "metadata": {
  "kernelspec": {
   "display_name": "Python 3 (ipykernel)",
   "language": "python",
   "name": "python3"
  },
  "language_info": {
   "codemirror_mode": {
    "name": "ipython",
    "version": 3
   },
   "file_extension": ".py",
   "mimetype": "text/x-python",
   "name": "python",
   "nbconvert_exporter": "python",
   "pygments_lexer": "ipython3",
   "version": "3.9.12"
  }
 },
 "nbformat": 4,
 "nbformat_minor": 5
}
